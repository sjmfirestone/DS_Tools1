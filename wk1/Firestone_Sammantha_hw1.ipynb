{
 "cells": [
  {
   "cell_type": "markdown",
   "metadata": {},
   "source": [
    "# Hw 1. Please complete the following activity and submit the notebook in LMS (learning management system). This homework is due by the end of week 3, to allow time for selecting your team and topic of the final project.\n"
   ]
  },
  {
   "cell_type": "markdown",
   "metadata": {},
   "source": [
    "### Q1 (.5 point) Why we need Python virtual environments?\n",
    "\n",
    "Please write no more than 3 lines."
   ]
  },
  {
   "cell_type": "markdown",
   "metadata": {},
   "source": [
    "Virtual Enviroments allow users to only use the packages (and the package versions) they need for their project which eliminates the chance for there to be global installation and package collision errors. Virtual Environments also allow users to share their code with others seamlessly.\n"
   ]
  },
  {
   "cell_type": "markdown",
   "metadata": {},
   "source": [
    "### Q2 (.5 point) Sort the following list in place alphabetically using last three characters."
   ]
  },
  {
   "cell_type": "code",
   "execution_count": 5,
   "metadata": {},
   "outputs": [
    {
     "name": "stdout",
     "output_type": "stream",
     "text": [
      "['Africa', 'America', 'Antarctica', 'Australia', 'Europe', 'Asia']\n"
     ]
    }
   ],
   "source": [
    "continentsL = ['Europe', 'Africa', 'America', 'Antarctica', 'Asia', 'Australia']\n",
    "# Write you code in the next line\n",
    "continentsL.sort(key=lambda x: x[-3:])\n",
    "print(continentsL)"
   ]
  },
  {
   "cell_type": "markdown",
   "metadata": {},
   "source": [
    "### Q3 (1=.5+.5 points) We want to compare random integer generation time in numpy and random module of \"plain\" python. Generate 100 random integers in the range 1 to 10 including 1 and 10. Write jupyter notebook line magic to compare execution time of random integer generation in the following cells (look for the cells having the comment *write line magic*).  Line magic must execute the given statement  10 times in a loop and repeat the process 5 times.\n",
    "\n",
    " \n",
    " Hints:\n",
    "\n",
    " - Note that numpy.random has randint function and random has random.randint function.\n",
    " - Press shift+tab after typing above function or search their documentation to understand their parameters.\n",
    " - use ? on magic command timeit for further documentation. see how to use **-n and -r options**.\n",
    " "
   ]
  },
  {
   "cell_type": "code",
   "execution_count": 8,
   "metadata": {},
   "outputs": [],
   "source": [
    "import random\n",
    "num_sample = 100\n",
    "low = 1\n",
    "high = 10"
   ]
  },
  {
   "cell_type": "code",
   "execution_count": 9,
   "metadata": {},
   "outputs": [
    {
     "name": "stdout",
     "output_type": "stream",
     "text": [
      "63.7 µs ± 1.65 µs per loop (mean ± std. dev. of 7 runs, 10000 loops each)\n"
     ]
    }
   ],
   "source": [
    "# write line magic for random module in the next line\n",
    "%timeit [random.randint(low, high) for i in range(num_sample)]"
   ]
  },
  {
   "cell_type": "code",
   "execution_count": 10,
   "metadata": {},
   "outputs": [],
   "source": [
    "import numpy as np"
   ]
  },
  {
   "cell_type": "code",
   "execution_count": 11,
   "metadata": {},
   "outputs": [
    {
     "name": "stdout",
     "output_type": "stream",
     "text": [
      "216 µs ± 5.8 µs per loop (mean ± std. dev. of 7 runs, 1000 loops each)\n"
     ]
    }
   ],
   "source": [
    "# write line magic for numpy randint in the next line\n",
    "%timeit [np.random.randint(low,high+1) for i in range(num_sample)]"
   ]
  },
  {
   "cell_type": "markdown",
   "metadata": {},
   "source": [
    "### To start working toward final project, complete the following questions by writing markdown in the same cell in next line. Each question in worth .5 point.\n",
    "\n",
    "In this course, __*we are concerned with data cleaning, feature engineering and exploratory analysis. Make sure your selected final project allows for lots of data cleaning, transformation and engineering opportunity.*__ \n",
    "\n",
    "Go over the project and presentation rubric one the course webpage to better understand the requirement for the project.  We will evaluate the answer to see if it meets the final project requirements.\n",
    "\n",
    "\n",
    "\n",
    "<font color = \"red\" size = \"5\">If you are working in a team, we'll read only one team member notebook for the following questions. Please make sure you have identical answers for following questions.  </font>\n",
    "\n",
    "<font color =\"red\"> To edit a markdown cell you need to double click in the cell</font>"
   ]
  },
  {
   "cell_type": "markdown",
   "metadata": {},
   "source": [
    "### Q4 List your team members in bullet format. (No more than 3 members).\n",
    "Note that\n",
    "\n",
    "- **Each member** has to present a portion of the project in the final presentation.\n",
    "\n",
    "-  Final report must list the contribution of each member. \n"
   ]
  },
  {
   "cell_type": "markdown",
   "metadata": {},
   "source": [
    "- Sammantha Firestone\n",
    "- Jacquelyn Noyes"
   ]
  },
  {
   "cell_type": "markdown",
   "metadata": {},
   "source": [
    "### Q5  What  problem you are trying to solve?"
   ]
  },
  {
   "cell_type": "markdown",
   "metadata": {},
   "source": [
    "We are trying to understand the increase in housing prices throughout the years in relation to the lack of increase of median salary. In other words, we are trying to understand the impact of increasing housing prices on the younger generations."
   ]
  },
  {
   "cell_type": "markdown",
   "metadata": {},
   "source": [
    "### Q6 Describe the attributes of the dataset. If you are planning to collect the data (webscrapping, web API etc.), list the timeline to finish the data collection."
   ]
  },
  {
   "cell_type": "markdown",
   "metadata": {},
   "source": [
    "Average Household Price by Region ([Zillow Data](https://files.zillowstatic.com/research/public_csvs/zhvi/Metro_zhvi_uc_sfrcondo_tier_0.33_0.67_month.csv?t=1664126527))\n",
    "RegionID, SizeRank, RegionName, RegionType, StateName, Price by <Month-Day-Year>... from 1996 to 2022\n",
    "\n",
    "Average Household Price Prediction by Region ([Zillow Data](https://files.zillowstatic.com/research/public_csvs/zhvf_growth/Metro_zhvf_growth_uc_sfrcondo_tier_0.33_0.67_month.csv?t=1664126527))\n",
    "RegionID, SizeRank, RegionName, RegionType, StateName, Percent Change by <Month-Day-Year>... from 1996 to 2022\n",
    "\n",
    "Median Income of Household by State ([Census.gov](https://www2.census.gov/programs-surveys/cps/tables/time-series/historical-income-households/h08.xlsx)):\n",
    "State, Year, Median Income, Standard Error"
   ]
  },
  {
   "cell_type": "markdown",
   "metadata": {},
   "source": [
    "### Q7 Give example of records (sample points). Explain why this is a noisy data set (highlight  portion of records, attributes or features you think are noisy)."
   ]
  },
  {
   "cell_type": "code",
   "execution_count": 2,
   "metadata": {},
   "outputs": [
    {
     "data": {
      "text/html": [
       "<div>\n",
       "<style scoped>\n",
       "    .dataframe tbody tr th:only-of-type {\n",
       "        vertical-align: middle;\n",
       "    }\n",
       "\n",
       "    .dataframe tbody tr th {\n",
       "        vertical-align: top;\n",
       "    }\n",
       "\n",
       "    .dataframe thead th {\n",
       "        text-align: right;\n",
       "    }\n",
       "</style>\n",
       "<table border=\"1\" class=\"dataframe\">\n",
       "  <thead>\n",
       "    <tr style=\"text-align: right;\">\n",
       "      <th></th>\n",
       "      <th>0</th>\n",
       "      <th>1</th>\n",
       "      <th>2</th>\n",
       "      <th>3</th>\n",
       "      <th>4</th>\n",
       "      <th>5</th>\n",
       "      <th>6</th>\n",
       "      <th>7</th>\n",
       "      <th>8</th>\n",
       "      <th>9</th>\n",
       "      <th>...</th>\n",
       "      <th>316</th>\n",
       "      <th>317</th>\n",
       "      <th>318</th>\n",
       "      <th>319</th>\n",
       "      <th>320</th>\n",
       "      <th>321</th>\n",
       "      <th>322</th>\n",
       "      <th>323</th>\n",
       "      <th>324</th>\n",
       "      <th>325</th>\n",
       "    </tr>\n",
       "  </thead>\n",
       "  <tbody>\n",
       "    <tr>\n",
       "      <th>67</th>\n",
       "      <td>394308</td>\n",
       "      <td>63</td>\n",
       "      <td>\"Albany</td>\n",
       "      <td>NY\"</td>\n",
       "      <td>msa</td>\n",
       "      <td>NY</td>\n",
       "      <td>107391.37121320948</td>\n",
       "      <td>106150.69360726779</td>\n",
       "      <td>105876.00567824137</td>\n",
       "      <td>105732.74339904939</td>\n",
       "      <td>...</td>\n",
       "      <td>257406.03962321286</td>\n",
       "      <td>257898.3862646319</td>\n",
       "      <td>259262.20513070945</td>\n",
       "      <td>260147.51742990842</td>\n",
       "      <td>265363.25473990425</td>\n",
       "      <td>270697.74194469134</td>\n",
       "      <td>273623.6509411889</td>\n",
       "      <td>275277.37434015836</td>\n",
       "      <td>278100.9554694897</td>\n",
       "      <td>281534.1468343149</td>\n",
       "    </tr>\n",
       "    <tr>\n",
       "      <th>68</th>\n",
       "      <td>394753</td>\n",
       "      <td>64</td>\n",
       "      <td>\"Knoxville</td>\n",
       "      <td>TN\"</td>\n",
       "      <td>msa</td>\n",
       "      <td>TN</td>\n",
       "      <td>92400.12296559464</td>\n",
       "      <td>92602.59885145363</td>\n",
       "      <td>93010.56442606643</td>\n",
       "      <td>93387.15746141561</td>\n",
       "      <td>...</td>\n",
       "      <td>272395.8393002889</td>\n",
       "      <td>281001.6844504961</td>\n",
       "      <td>284719.3816594263</td>\n",
       "      <td>293262.0287600895</td>\n",
       "      <td>296125.49282928155</td>\n",
       "      <td>305281.20619903965</td>\n",
       "      <td>311018.8955521313</td>\n",
       "      <td>316638.48281008605</td>\n",
       "      <td>316236.044868201</td>\n",
       "      <td>319177.70882197085</td>\n",
       "    </tr>\n",
       "    <tr>\n",
       "      <th>69</th>\n",
       "      <td>394843</td>\n",
       "      <td>65</td>\n",
       "      <td>\"McAllen</td>\n",
       "      <td>TX\"</td>\n",
       "      <td>msa</td>\n",
       "      <td>TX</td>\n",
       "      <td></td>\n",
       "      <td></td>\n",
       "      <td></td>\n",
       "      <td></td>\n",
       "      <td>...</td>\n",
       "      <td>154230.02346150216</td>\n",
       "      <td>156364.6441785355</td>\n",
       "      <td>158578.11005786317</td>\n",
       "      <td>160472.22751132835</td>\n",
       "      <td>163768.75720995982</td>\n",
       "      <td>165908.57843410887</td>\n",
       "      <td>169144.5707783635</td>\n",
       "      <td>172553.51519174836</td>\n",
       "      <td>174287.5856084892</td>\n",
       "      <td>177183.60118841383</td>\n",
       "    </tr>\n",
       "    <tr>\n",
       "      <th>70</th>\n",
       "      <td>394367</td>\n",
       "      <td>66</td>\n",
       "      <td>\"Baton Rouge</td>\n",
       "      <td>LA\"</td>\n",
       "      <td>msa</td>\n",
       "      <td>LA</td>\n",
       "      <td></td>\n",
       "      <td></td>\n",
       "      <td></td>\n",
       "      <td></td>\n",
       "      <td>...</td>\n",
       "      <td>217163.74765471256</td>\n",
       "      <td>220073.03574314888</td>\n",
       "      <td>221854.4223859475</td>\n",
       "      <td>225563.25264958863</td>\n",
       "      <td>229613.48758961353</td>\n",
       "      <td>232538.91540301303</td>\n",
       "      <td>234858.43977567347</td>\n",
       "      <td>236771.9822679133</td>\n",
       "      <td>237245.26116338072</td>\n",
       "      <td>237986.65605350139</td>\n",
       "    </tr>\n",
       "  </tbody>\n",
       "</table>\n",
       "<p>4 rows × 326 columns</p>\n",
       "</div>"
      ],
      "text/plain": [
       "       0   1             2     3    4   5                   6    \\\n",
       "67  394308  63       \"Albany   NY\"  msa  NY  107391.37121320948   \n",
       "68  394753  64    \"Knoxville   TN\"  msa  TN   92400.12296559464   \n",
       "69  394843  65      \"McAllen   TX\"  msa  TX                       \n",
       "70  394367  66  \"Baton Rouge   LA\"  msa  LA                       \n",
       "\n",
       "                   7                   8                   9    ...  \\\n",
       "67  106150.69360726779  105876.00567824137  105732.74339904939  ...   \n",
       "68   92602.59885145363   93010.56442606643   93387.15746141561  ...   \n",
       "69                                                              ...   \n",
       "70                                                              ...   \n",
       "\n",
       "                   316                 317                 318  \\\n",
       "67  257406.03962321286   257898.3862646319  259262.20513070945   \n",
       "68   272395.8393002889   281001.6844504961   284719.3816594263   \n",
       "69  154230.02346150216   156364.6441785355  158578.11005786317   \n",
       "70  217163.74765471256  220073.03574314888   221854.4223859475   \n",
       "\n",
       "                   319                 320                 321  \\\n",
       "67  260147.51742990842  265363.25473990425  270697.74194469134   \n",
       "68   293262.0287600895  296125.49282928155  305281.20619903965   \n",
       "69  160472.22751132835  163768.75720995982  165908.57843410887   \n",
       "70  225563.25264958863  229613.48758961353  232538.91540301303   \n",
       "\n",
       "                   322                 323                 324  \\\n",
       "67   273623.6509411889  275277.37434015836   278100.9554694897   \n",
       "68   311018.8955521313  316638.48281008605    316236.044868201   \n",
       "69   169144.5707783635  172553.51519174836   174287.5856084892   \n",
       "70  234858.43977567347   236771.9822679133  237245.26116338072   \n",
       "\n",
       "                   325  \n",
       "67   281534.1468343149  \n",
       "68  319177.70882197085  \n",
       "69  177183.60118841383  \n",
       "70  237986.65605350139  \n",
       "\n",
       "[4 rows x 326 columns]"
      ]
     },
     "execution_count": 2,
     "metadata": {},
     "output_type": "execute_result"
    }
   ],
   "source": [
    "import pandas as pd\n",
    "housing_sample = !curl https://files.zillowstatic.com/research/public_csvs/zhvi/Metro_zhvi_uc_sfrcondo_tier_0.33_0.67_month.csv?t=1664126527\n",
    "#sample data below of housing data\n",
    "df = pd.DataFrame(data=sample)[0].str.split(',',expand=True)\n",
    "df.iloc[67:71,0::]"
   ]
  },
  {
   "cell_type": "markdown",
   "metadata": {},
   "source": [
    "For the Average Household Price by Region, many of the column values (Price by Date) are NAN values (see above). \n",
    "Also, we need the Median Housing price per year, as it correlates to our Median Income of Household data, rather than month. \n",
    "We should then combine all region data into state, so we can compare this average price data to Median Income of Household that is provided by state. "
   ]
  },
  {
   "cell_type": "markdown",
   "metadata": {},
   "source": [
    "### Q8 What kind of  feature engineering opportunity you see.\n",
    "\n",
    "We'll cover feature engineering but here are some examples to get an idea of feature engineering.\n",
    "- Do you need to extract a number, year, or a word in column (attribute of a record).\n",
    "    + Perhaps extracting Miss, Mr., Dr. is more important than actual name?\n",
    "    + Maybe year or time is embbedded in the text desciption and it is important for analysis. \n",
    "- If a column has numerical values do you see a potential for using these values or a transformation of these values like square, log etc?\n",
    "- Does it make sense to combine multiple features into a single feature?"
   ]
  },
  {
   "cell_type": "markdown",
   "metadata": {},
   "source": [
    "We need to do the following--\n",
    "- Import all three data sets and clean files (if we curl we will have to fix column names and re-align the data into a structured DF).\n",
    "- Combine the price of houses in each month into a yearly value (for both Zillow data files). \n",
    "- Combine regions into a singular state for easier comparison with median income by state (for both Zillow data files). \n",
    "- Determine the home price to income ratio per year and state. "
   ]
  }
 ],
 "metadata": {
  "kernelspec": {
   "display_name": "Python 3 (ipykernel)",
   "language": "python",
   "name": "python3"
  },
  "language_info": {
   "codemirror_mode": {
    "name": "ipython",
    "version": 3
   },
   "file_extension": ".py",
   "mimetype": "text/x-python",
   "name": "python",
   "nbconvert_exporter": "python",
   "pygments_lexer": "ipython3",
   "version": "3.8.10"
  },
  "toc": {
   "base_numbering": 1,
   "nav_menu": {},
   "number_sections": false,
   "sideBar": true,
   "skip_h1_title": false,
   "title_cell": "Table of Contents",
   "title_sidebar": "Contents",
   "toc_cell": false,
   "toc_position": {},
   "toc_section_display": true,
   "toc_window_display": false
  },
  "varInspector": {
   "cols": {
    "lenName": 16,
    "lenType": 16,
    "lenVar": 40
   },
   "kernels_config": {
    "python": {
     "delete_cmd_postfix": "",
     "delete_cmd_prefix": "del ",
     "library": "var_list.py",
     "varRefreshCmd": "print(var_dic_list())"
    },
    "r": {
     "delete_cmd_postfix": ") ",
     "delete_cmd_prefix": "rm(",
     "library": "var_list.r",
     "varRefreshCmd": "cat(var_dic_list()) "
    }
   },
   "types_to_exclude": [
    "module",
    "function",
    "builtin_function_or_method",
    "instance",
    "_Feature"
   ],
   "window_display": false
  }
 },
 "nbformat": 4,
 "nbformat_minor": 2
}
