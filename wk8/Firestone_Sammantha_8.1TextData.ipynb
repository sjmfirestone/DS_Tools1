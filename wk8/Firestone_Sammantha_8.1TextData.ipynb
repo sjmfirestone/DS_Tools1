{
 "cells": [
  {
   "cell_type": "code",
   "execution_count": 6,
   "id": "3712eb5e",
   "metadata": {},
   "outputs": [],
   "source": [
    "from sklearn.feature_extraction.text import TfidfVectorizer\n",
    "import pandas as pd"
   ]
  },
  {
   "cell_type": "code",
   "execution_count": 8,
   "id": "58e3b3ef",
   "metadata": {},
   "outputs": [
    {
     "name": "stderr",
     "output_type": "stream",
     "text": [
      "/mnt/c/Users/Owner/Desktop/COMP 4447 Data Science Tools 1/myVirtualEnv/lib/python3.8/site-packages/sklearn/utils/deprecation.py:87: FutureWarning: Function get_feature_names is deprecated; get_feature_names is deprecated in 1.0 and will be removed in 1.2. Please use get_feature_names_out instead.\n",
      "  warnings.warn(msg, category=FutureWarning)\n"
     ]
    },
    {
     "data": {
      "text/html": [
       "<div>\n",
       "<style scoped>\n",
       "    .dataframe tbody tr th:only-of-type {\n",
       "        vertical-align: middle;\n",
       "    }\n",
       "\n",
       "    .dataframe tbody tr th {\n",
       "        vertical-align: top;\n",
       "    }\n",
       "\n",
       "    .dataframe thead th {\n",
       "        text-align: right;\n",
       "    }\n",
       "</style>\n",
       "<table border=\"1\" class=\"dataframe\">\n",
       "  <thead>\n",
       "    <tr style=\"text-align: right;\">\n",
       "      <th></th>\n",
       "      <th>big data</th>\n",
       "      <th>big data data</th>\n",
       "      <th>data data</th>\n",
       "      <th>data data science</th>\n",
       "      <th>data science</th>\n",
       "      <th>data science with</th>\n",
       "      <th>hacking skill</th>\n",
       "      <th>science with</th>\n",
       "      <th>science with big</th>\n",
       "      <th>science with hacking</th>\n",
       "      <th>with big</th>\n",
       "      <th>with big data</th>\n",
       "      <th>with hacking</th>\n",
       "      <th>with hacking skill</th>\n",
       "    </tr>\n",
       "  </thead>\n",
       "  <tbody>\n",
       "    <tr>\n",
       "      <th>0</th>\n",
       "      <td>0.208514</td>\n",
       "      <td>0.208514</td>\n",
       "      <td>0.208514</td>\n",
       "      <td>0.208514</td>\n",
       "      <td>0.417029</td>\n",
       "      <td>0.417029</td>\n",
       "      <td>0.208514</td>\n",
       "      <td>0.417029</td>\n",
       "      <td>0.208514</td>\n",
       "      <td>0.208514</td>\n",
       "      <td>0.208514</td>\n",
       "      <td>0.208514</td>\n",
       "      <td>0.208514</td>\n",
       "      <td>0.208514</td>\n",
       "    </tr>\n",
       "  </tbody>\n",
       "</table>\n",
       "</div>"
      ],
      "text/plain": [
       "   big data  big data data  data data  data data science  data science  \\\n",
       "0  0.208514       0.208514   0.208514           0.208514      0.417029   \n",
       "\n",
       "   data science with  hacking skill  science with  science with big  \\\n",
       "0           0.417029       0.208514      0.417029          0.208514   \n",
       "\n",
       "   science with hacking  with big  with big data  with hacking  \\\n",
       "0              0.208514  0.208514       0.208514      0.208514   \n",
       "\n",
       "   with hacking skill  \n",
       "0            0.208514  "
      ]
     },
     "execution_count": 8,
     "metadata": {},
     "output_type": "execute_result"
    }
   ],
   "source": [
    "sample_corpus = [\"data science with big data,\" \"Data science with hacking skill\"]\n",
    "en = TfidfVectorizer(ngram_range=(2,3))\n",
    "X = en.fit_transform(sample_corpus)\n",
    "pd.DataFrame(X.toarray(), columns=en.get_feature_names())"
   ]
  }
 ],
 "metadata": {
  "kernelspec": {
   "display_name": "myVirtualEnv",
   "language": "python",
   "name": "myvirtualenv"
  },
  "language_info": {
   "codemirror_mode": {
    "name": "ipython",
    "version": 3
   },
   "file_extension": ".py",
   "mimetype": "text/x-python",
   "name": "python",
   "nbconvert_exporter": "python",
   "pygments_lexer": "ipython3",
   "version": "3.8.10"
  }
 },
 "nbformat": 4,
 "nbformat_minor": 5
}
